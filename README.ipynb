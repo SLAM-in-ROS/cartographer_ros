{
 "cells": [
  {
   "cell_type": "markdown",
   "metadata": {},
   "source": [
    "# Running Cartographer ROS on a demo bag"
   ]
  },
  {
   "cell_type": "markdown",
   "metadata": {},
   "source": [
    "## Deutsches Museum\n",
    "\n",
    "Launch the 2D backpack demo:"
   ]
  },
  {
   "cell_type": "code",
   "execution_count": null,
   "metadata": {},
   "outputs": [],
   "source": [
    "source ~/catkin_ws/devel_isolated/setup.bash && roslaunch cartographer_ros demo_backpack_2d.launch \\\n",
    "  bag_filename:=/DATASET/cartographer-public-data/bags/backpack_2d/cartographer_paper_deutsches_museum.bag"
   ]
  },
  {
   "cell_type": "markdown",
   "metadata": {},
   "source": [
    "Launch the 3D backpack demo:"
   ]
  },
  {
   "cell_type": "code",
   "execution_count": null,
   "metadata": {},
   "outputs": [],
   "source": [
    "source ~/catkin_ws/devel_isolated/setup.bash && roslaunch cartographer_ros demo_backpack_3d.launch \\\n",
    "  bag_filename:=/DATASET/cartographer-public-data/bags/backpack_3d/b3-2016-04-05-14-14-00.bag"
   ]
  },
  {
   "cell_type": "markdown",
   "metadata": {},
   "source": [
    "## Pure localization\n",
    "Pure localization uses 2 different bags. The first one is used to generate the map, the second to run pure localization.\n",
    "\n",
    "Generate the map (wait until cartographer_offline_node finishes) and then run pure localization:"
   ]
  },
  {
   "cell_type": "code",
   "execution_count": null,
   "metadata": {},
   "outputs": [],
   "source": [
    "source ~/catkin_ws/devel_isolated/setup.bash && roslaunch cartographer_ros offline_backpack_2d.launch \\\n",
    "bag_filenames:=/DATASET/cartographer-public-data/bags/backpack_2d/b2-2016-04-05-14-44-52.bag"
   ]
  },
  {
   "cell_type": "code",
   "execution_count": null,
   "metadata": {},
   "outputs": [],
   "source": [
    "ls -al /DATASET/cartographer-public-data/bags/backpack_2d"
   ]
  },
  {
   "cell_type": "code",
   "execution_count": null,
   "metadata": {},
   "outputs": [],
   "source": [
    "source ~/catkin_ws/devel_isolated/setup.bash && roslaunch cartographer_ros demo_backpack_2d_localization.launch \\\n",
    "   load_state_filename:=/DATASET/cartographer-public-data/bags/backpack_2d/b2-2016-04-05-14-44-52.bag.pbstream \\\n",
    "   bag_filename:=/DATASET/cartographer-public-data/bags/backpack_2d/b2-2016-04-27-12-31-41.bag"
   ]
  },
  {
   "cell_type": "code",
   "execution_count": null,
   "metadata": {},
   "outputs": [],
   "source": []
  }
 ],
 "metadata": {
  "kernelspec": {
   "display_name": "Bash",
   "language": "bash",
   "name": "bash"
  },
  "language_info": {
   "codemirror_mode": "shell",
   "file_extension": ".sh",
   "mimetype": "text/x-sh",
   "name": "bash"
  }
 },
 "nbformat": 4,
 "nbformat_minor": 2
}
